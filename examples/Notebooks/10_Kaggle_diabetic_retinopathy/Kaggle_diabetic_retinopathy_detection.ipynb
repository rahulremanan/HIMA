{
  "nbformat": 4,
  "nbformat_minor": 0,
  "metadata": {
    "colab": {
      "name": "Diabetic_retinopathy_detection.ipynb",
      "version": "0.3.2",
      "provenance": [],
      "collapsed_sections": []
    },
    "kernelspec": {
      "name": "python3",
      "display_name": "Python 3"
    },
    "accelerator": "GPU"
  },
  "cells": [
    {
      "metadata": {
        "id": "n8Ke0jZXVI72",
        "colab_type": "text"
      },
      "cell_type": "markdown",
      "source": [
        "# [Diabetic retinopathy detection](https://www.kaggle.com/c/diabetic-retinopathy-detection/)\n",
        "\n",
        "## [Launch this notebook in Google CoLab](https://colab.research.google.com/github/rahulremanan/HIMA/blob/master/examples/Notebooks/10_Kaggle_diabetic_retinopathy/Kaggle_diabetic_retinopathy_detection.ipynb)\n",
        "\n",
        "## [An overview of the diabetic retinopathy](https://nei.nih.gov/health/diabetic/retinopathy)\n",
        "Diabetic retinopathy is a complication of diabetes affects the retinas of the eyes. The retinas are the part of the eye that detects ligh and converts into nerve signals that are then conveyed to the visual cortex in the brain, via the optic nerve. It is the most common cause of vision loss among individuals with diabetes.\n",
        "\n",
        "It's caused by damage to the blood vessels of the light-sensitive tissue at the back of the eye (retina), due to the leaking of fluid from the retinal blood vessels or due to a due to a hemorrhage (bleeding) from these blood vessels. At first, diabetic retinopathy may cause no symptoms or only mild vision problems.\n",
        "\n",
        "## Creating a deep neural network that detects the presence of diabetic retinopathy:\n",
        "\n",
        "The dataset is a large set of high-resolution retina images taken under a variety of imaging conditions. A left and right field is provided for every subject. Images are labeled with a subject id as well as either left or right (e.g. 1_left.jpeg is the left eye of patient id 1).\n",
        "\n",
        "A clinician has rated the presence of diabetic retinopathy in each image on a scale of 0 to 4.\n",
        "\n",
        "This staging has direct relevance to progression of the disease.\n",
        "\n",
        "Using these images and corresponding labels a deep convolutional neural network can be trained to detect retinal images for features of diabetic retinopathy.\n",
        "\n",
        "## An overview of the diabetic retinopathy staging:\n",
        "\n",
        "**1) Mild nonproliferative retinopathy:** Small areas of balloon-like swelling in the retina’s tiny blood vessels, called microaneurysms, occur at this earliest stage of the disease. These microaneurysms may leak fluid into the retina.\n",
        "\n",
        "**2) Moderate nonproliferative retinopathy:** As the disease progresses, blood vessels that nourish the retina may swell and distort. They may also lose their ability to transport blood. Both conditions cause characteristic changes to the appearance of the retina and may contribute to DME.\n",
        "\n",
        "**3) Severe nonproliferative retinopathy:** Many more blood vessels are blocked, depriving blood supply to areas of the retina. These areas secrete growth factors that signal the retina to grow new blood vessels.\n",
        "\n",
        "**4) Proliferative diabetic retinopathy (PDR):** At this advanced stage, growth factors secreted by the retina trigger the proliferation of new blood vessels, which grow along the inside surface of the retina and into the vitreous gel, the fluid that fills the eye. The new blood vessels are fragile, which makes them more likely to leak and bleed. Accompanying scar tissue can contract and cause retinal detachment—the pulling away of the retina from underlying tissue, like wallpaper peeling away from a wall. Retinal detachment can lead to permanent vision loss.\n",
        "\n",
        "## About the dataset:\n",
        "\n",
        "The images in the dataset come from different models and types of cameras, which can affect the visual appearance of left vs. right. Some images are shown as one would see the retina anatomically (macula on the left, optic nerve on the right for the right eye). Others are shown as one would see through a microscope condensing lens (i.e. inverted, as one sees in a typical live eye exam). There are generally two ways to tell if an image is inverted:\n",
        "\n",
        "It is inverted if the macula (the small dark central area) is slightly higher than the midline through the optic nerve. If the macula is lower than the midline of the optic nerve, it's not inverted.\n",
        "If there is a notch on the side of the image (square, triangle, or circle) then it's not inverted. If there is no notch, it's inverted.\n",
        "\n",
        "Like any real-world data set, you will encounter noise in both the images and labels. Images may contain artifacts, be out of focus, underexposed, or overexposed. A major aim of this competition is to develop robust algorithms that can function in the presence of noise and variation.\n",
        "\n",
        "## Data labels:\n",
        "* 0 - No DR\n",
        "* 1 - Mild\n",
        "* 2 - Moderate\n",
        "* 3 - Severe\n",
        "* 4 - Proliferative DR"
      ]
    },
    {
      "metadata": {
        "id": "fiwxfDJFcUjo",
        "colab_type": "code",
        "colab": {}
      },
      "cell_type": "code",
      "source": [
        "setup = True\n",
        "fetch_raw_data = True\n",
        "colab_mode = True\n",
        "\n",
        "dataset_id = 'kaggle_adiabetic_retinopathy'"
      ],
      "execution_count": 0,
      "outputs": []
    },
    {
      "metadata": {
        "id": "KLYK4C9QUvcx",
        "colab_type": "code",
        "colab": {}
      },
      "cell_type": "code",
      "source": [
        "import os \n",
        "import sys\n",
        "import subprocess\n",
        "import gc"
      ],
      "execution_count": 0,
      "outputs": []
    },
    {
      "metadata": {
        "id": "lB5A1DPsbzc1",
        "colab_type": "code",
        "colab": {}
      },
      "cell_type": "code",
      "source": [
        "def execute_in_shell(command=None, \n",
        "                     verbose = False):\n",
        "    \"\"\" \n",
        "        command -- keyword argument, takes a list as input\n",
        "        verbsoe -- keyword argument, takes a boolean value as input\n",
        "    \n",
        "        This is a function that executes shell scripts from within python.\n",
        "        \n",
        "        Keyword argument 'command', should be a list of shell commands.\n",
        "        Keyword argument 'verbose', should be a boolean value to set verbose level.\n",
        "        \n",
        "        Example usage: execute_in_shell(command = ['ls ./some/folder/',\n",
        "                                                    ls ./some/folder/  -1 | wc -l'],\n",
        "                                        verbose = True ) \n",
        "                                        \n",
        "        This command returns dictionary with elements: Output and Error.\n",
        "        \n",
        "        Output records the console output,\n",
        "        Error records the console error messages.\n",
        "                                        \n",
        "    \"\"\"\n",
        "    error = []\n",
        "    output = []\n",
        "    \n",
        "    if isinstance(command, list):\n",
        "        for i in range(len(command)):\n",
        "            try:\n",
        "                process = subprocess.Popen(command[i], shell=True, stdout=subprocess.PIPE)\n",
        "                process.wait()\n",
        "                out, err = process.communicate()\n",
        "                error.append(err)\n",
        "                output.append(out)\n",
        "                if verbose:\n",
        "                    print ('Success running shell command: {}'.format(command[i]))\n",
        "            except Exception as e:\n",
        "                print ('Failed running shell command: {}'.format(command[i]))\n",
        "                if verbose:\n",
        "                    print(type(e))\n",
        "                    print(e.args)\n",
        "                    print(e)\n",
        "                \n",
        "    else:\n",
        "        print ('The argument command takes a list input ...')\n",
        "    return {'Output': output, 'Error': error }"
      ],
      "execution_count": 0,
      "outputs": []
    },
    {
      "metadata": {
        "id": "pSLQvMF3b390",
        "colab_type": "code",
        "colab": {}
      },
      "cell_type": "code",
      "source": [
        "command = ['pip3 install -q kaggle PyDrive scikit-optimize >/dev/null 2>&1',\n",
        "           'mkdir /content/',\n",
        "           'mkdir /content/.kaggle/',\n",
        "           'mkdir ./{}/'.format(dataset_id)]"
      ],
      "execution_count": 0,
      "outputs": []
    },
    {
      "metadata": {
        "id": "yQwWaoxOb6D7",
        "colab_type": "code",
        "colab": {}
      },
      "cell_type": "code",
      "source": [
        "if setup and colab_mode:\n",
        "  execute_in_shell(command = command, \n",
        "                   verbose = True)"
      ],
      "execution_count": 0,
      "outputs": []
    },
    {
      "metadata": {
        "id": "ZlS4HcEgb-_l",
        "colab_type": "code",
        "colab": {}
      },
      "cell_type": "code",
      "source": [
        "if colab_mode:\n",
        "    from pydrive.auth import GoogleAuth\n",
        "    from pydrive.drive import GoogleDrive\n",
        "    from google.colab import auth\n",
        "    from oauth2client.client import GoogleCredentials\n",
        "    from googleapiclient.http import MediaIoBaseDownload\n",
        "    \n",
        "import io\n",
        "import glob\n",
        "import fnmatch\n",
        "import random\n",
        "\n",
        "from multiprocessing import Process\n",
        "\n",
        "import os, sys, math\n",
        "import numpy as np\n",
        "import pandas as pd\n",
        "import matplotlib.pyplot as plt\n",
        "from PIL import Image\n",
        "import cv2\n",
        "from imgaug import augmenters as iaa\n",
        "from tqdm import tqdm\n",
        "\n",
        "import warnings\n",
        "warnings.filterwarnings(\"ignore\")"
      ],
      "execution_count": 0,
      "outputs": []
    },
    {
      "metadata": {
        "id": "0_rsKizccA6B",
        "colab_type": "code",
        "colab": {}
      },
      "cell_type": "code",
      "source": [
        "import argparse\n",
        "import os\n",
        "import random\n",
        "import time\n",
        "import sys\n",
        "import glob\n",
        "try:\n",
        "    import h5py\n",
        "except:\n",
        "    print ('Package h5py needed for saving model weights ...')\n",
        "    sys.exit(1)\n",
        "import json\n",
        "import matplotlib\n",
        "matplotlib.use('Agg')\n",
        "import matplotlib.pyplot as plt\n",
        "try:\n",
        "    import tensorflow\n",
        "    import keras\n",
        "except:\n",
        "    print ('This code uses tensorflow deep-learning framework and keras api ...')\n",
        "    print ('Install tensorflow and keras to train the classifier ...')\n",
        "    sys.exit(1)\n",
        "import PIL\n",
        "from collections import defaultdict\n",
        "from keras.applications.inception_v3 import InceptionV3,    \\\n",
        "                                            preprocess_input as preprocess_input_inceptionv3\n",
        "from keras.applications.inception_resnet_v2 import InceptionResNetV2,    \\\n",
        "                                            preprocess_input as preprocess_input_inceptionv4\n",
        "from keras.models import Model,                             \\\n",
        "                         model_from_json,                    \\\n",
        "                         load_model\n",
        "from keras.layers import Dense,                             \\\n",
        "                         GlobalAveragePooling2D,            \\\n",
        "                         Dropout,                           \\\n",
        "                         BatchNormalization\n",
        "from keras.layers.merge import concatenate\n",
        "from keras.preprocessing.image import ImageDataGenerator\n",
        "from keras.regularizers import l2\n",
        "from keras.optimizers import SGD,                           \\\n",
        "                             RMSprop,                       \\\n",
        "                             Adagrad,                       \\\n",
        "                             Adadelta,                      \\\n",
        "                             Adam,                          \\\n",
        "                             Adamax,                        \\\n",
        "                             Nadam\n",
        "from keras.callbacks import EarlyStopping,   \\\n",
        "                            ModelCheckpoint, \\\n",
        "                            ReduceLROnPlateau\n",
        "                            \n",
        "from multiprocessing import Process"
      ],
      "execution_count": 0,
      "outputs": []
    },
    {
      "metadata": {
        "id": "RBi8IFFld3ks",
        "colab_type": "text"
      },
      "cell_type": "markdown",
      "source": [
        "## Authenticate notebook session to access Kaggle\n",
        "\n",
        "The authentication of the notebook session in CoLab can be done via the Kaggle API. Download the kaggle.json file to your computer, from [Kaggle account settings](https://www.kaggle.com/{USERNAME}/account) under API, using the **\"Create New API Token\"** button. \n",
        "\n",
        "Upload that kaggle.json file to this session by executing the cell below."
      ]
    },
    {
      "metadata": {
        "id": "z4wIb6Z2cEOC",
        "colab_type": "code",
        "colab": {}
      },
      "cell_type": "code",
      "source": [
        "if setup and fetch_raw_data and colab_mode:\n",
        "  from google.colab import files\n",
        "  uploaded = files.upload()"
      ],
      "execution_count": 0,
      "outputs": []
    },
    {
      "metadata": {
        "id": "VavIh3pCgq-l",
        "colab_type": "text"
      },
      "cell_type": "markdown",
      "source": [
        "## Download the data\n",
        "\n",
        "Using the Kaggle authentication token, the retinal imaging data will be downloaded, via the [Kaggle API](https://github.com/Kaggle/kaggle-api).\n",
        "\n",
        "`kaggle competitions download -c diabetic-retinopathy-detection`\n",
        "\n",
        "Before downloading the data, ensure that you have accepted the [Kaggle platform rules for the diabetic retinopathy detection competition](https://www.kaggle.com/c/diabetic-retinopathy-detection/rules)."
      ]
    },
    {
      "metadata": {
        "id": "qJKmxOxHdJLv",
        "colab_type": "code",
        "colab": {}
      },
      "cell_type": "code",
      "source": [
        "command = ['mkdir ~/.kaggle/',\n",
        "           'mv ./kaggle.json /root/.kaggle/',\n",
        "           'chmod 600 ~/.kaggle/kaggle.json',\n",
        "           'kaggle competitions download -c diabetic-retinopathy-detection']"
      ],
      "execution_count": 0,
      "outputs": []
    },
    {
      "metadata": {
        "id": "zKaUAbnAfDSw",
        "colab_type": "code",
        "colab": {}
      },
      "cell_type": "code",
      "source": [
        "if fetch_raw_data:\n",
        "  execute_in_shell(command = command, verbose = True)"
      ],
      "execution_count": 0,
      "outputs": []
    },
    {
      "metadata": {
        "id": "i57VmJEWfW_M",
        "colab_type": "code",
        "colab": {}
      },
      "cell_type": "code",
      "source": [
        "! kaggle competitions download -c diabetic-retinopathy-detection"
      ],
      "execution_count": 0,
      "outputs": []
    },
    {
      "metadata": {
        "id": "b-tJxBr1oP96",
        "colab_type": "code",
        "colab": {}
      },
      "cell_type": "code",
      "source": [
        ""
      ],
      "execution_count": 0,
      "outputs": []
    }
  ]
}